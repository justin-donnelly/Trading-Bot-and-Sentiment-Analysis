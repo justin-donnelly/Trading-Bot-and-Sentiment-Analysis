{
 "cells": [
  {
   "cell_type": "code",
   "execution_count": 1,
   "metadata": {},
   "outputs": [],
   "source": [
    "#Imports\n",
    "import os\n",
    "import requests\n",
    "import json \n",
    "from dotenv import load_dotenv\n",
    "import tweepy\n",
    "load_dotenv()\n",
    "import pandas as pd\n",
    "import re\n",
    "from textblob import TextBlob\n",
    "import matplotlib.pyplot as plt"
   ]
  },
  {
   "cell_type": "code",
   "execution_count": 2,
   "metadata": {},
   "outputs": [],
   "source": [
    "#twitter API keys\n",
    "twitter_api_key = os.getenv(\"TWITTER_API_KEY\")\n",
    "twitter_secret_key = os.getenv(\"TWITTER_SECRET_KEY\")\n",
    "twitter_access_token = os.getenv(\"TWITTER_ACCESS_TOKEN\")\n",
    "twitter_secret_token = os.getenv(\"TWITTER_SECRET_TOKEN\")"
   ]
  },
  {
   "cell_type": "code",
   "execution_count": 3,
   "metadata": {},
   "outputs": [],
   "source": [
    "#Authorize twitter use with account\n",
    "def oAuth():\n",
    "    try:\n",
    "        auth = tweepy.OAuthHandler(twitter_api_key,twitter_secret_key)\n",
    "        auth.set_access_token(twitter_access_token,twitter_secret_token)\n",
    "        return auth\n",
    "    except Exception as e:\n",
    "        return None\n",
    "\n",
    "oauth= oAuth()\n",
    "\n",
    "#set twitter api object \n",
    "twitter_api = tweepy.API(oauth)"
   ]
  },
  {
   "cell_type": "code",
   "execution_count": 4,
   "metadata": {},
   "outputs": [],
   "source": [
    "#Gather 2000 tweets - BTC\n",
    "search_term = 'bitcoin' + '-filter:retweets'\n",
    "#create a cursor object\n",
    "#twitterapi.search_tweets has been most consistent with filtering retweets and getting hundreds of tweets without using twitter data website storage\n",
    "tweets = tweepy.Cursor(twitter_api.search_tweets, q=search_term, tweet_mode = 'extended', lang = 'en').items(200)"
   ]
  },
  {
   "cell_type": "code",
   "execution_count": 7,
   "metadata": {},
   "outputs": [],
   "source": [
    "#gather text from tweets\n",
    "all_tweets = [tweet.full_text for tweet in tweets]"
   ]
  },
  {
   "cell_type": "code",
   "execution_count": 8,
   "metadata": {},
   "outputs": [
    {
     "data": {
      "text/html": [
       "<div>\n",
       "<style scoped>\n",
       "    .dataframe tbody tr th:only-of-type {\n",
       "        vertical-align: middle;\n",
       "    }\n",
       "\n",
       "    .dataframe tbody tr th {\n",
       "        vertical-align: top;\n",
       "    }\n",
       "\n",
       "    .dataframe thead th {\n",
       "        text-align: right;\n",
       "    }\n",
       "</style>\n",
       "<table border=\"1\" class=\"dataframe\">\n",
       "  <thead>\n",
       "    <tr style=\"text-align: right;\">\n",
       "      <th></th>\n",
       "      <th>Tweets</th>\n",
       "    </tr>\n",
       "  </thead>\n",
       "  <tbody>\n",
       "    <tr>\n",
       "      <th>0</th>\n",
       "      <td>Looks like CPI data is going to come better th...</td>\n",
       "    </tr>\n",
       "    <tr>\n",
       "      <th>1</th>\n",
       "      <td>#EURUSD ALL targets hit! 150 pips profit🎯\\n\\nJ...</td>\n",
       "    </tr>\n",
       "    <tr>\n",
       "      <th>2</th>\n",
       "      <td>Bitcoin is the future of money. Decentralizati...</td>\n",
       "    </tr>\n",
       "    <tr>\n",
       "      <th>3</th>\n",
       "      <td>@BitcoinMagazine @GovRonDeSantis Sounds like @...</td>\n",
       "    </tr>\n",
       "    <tr>\n",
       "      <th>4</th>\n",
       "      <td>I can help you get back your hacked,locked Acc...</td>\n",
       "    </tr>\n",
       "  </tbody>\n",
       "</table>\n",
       "</div>"
      ],
      "text/plain": [
       "                                              Tweets\n",
       "0  Looks like CPI data is going to come better th...\n",
       "1  #EURUSD ALL targets hit! 150 pips profit🎯\\n\\nJ...\n",
       "2  Bitcoin is the future of money. Decentralizati...\n",
       "3  @BitcoinMagazine @GovRonDeSantis Sounds like @...\n",
       "4  I can help you get back your hacked,locked Acc..."
      ]
     },
     "execution_count": 8,
     "metadata": {},
     "output_type": "execute_result"
    }
   ],
   "source": [
    "#create df for tweets\n",
    "df = pd.DataFrame(all_tweets, columns=['Tweets'])\n",
    "df.head()"
   ]
  },
  {
   "cell_type": "code",
   "execution_count": 9,
   "metadata": {},
   "outputs": [],
   "source": [
    "#Function to try and clean up some of the noise in the tweets\n",
    "def cleanTwt(twt):\n",
    "    twt = re.sub('#bitcoin','bitcoin', twt)\n",
    "    twt = re.sub('#Bitcoin','Bitcoin', twt)\n",
    "    twt = re.sub('#[A-Za-z0-9]+', '', twt)\n",
    "    twt = re.sub('\\\\n', '', twt)\n",
    "    twt = re.sub('https?:\\/\\/\\S+','', twt) #removes https links\n",
    "    return twt"
   ]
  },
  {
   "cell_type": "code",
   "execution_count": 10,
   "metadata": {},
   "outputs": [
    {
     "data": {
      "text/html": [
       "<div>\n",
       "<style scoped>\n",
       "    .dataframe tbody tr th:only-of-type {\n",
       "        vertical-align: middle;\n",
       "    }\n",
       "\n",
       "    .dataframe tbody tr th {\n",
       "        vertical-align: top;\n",
       "    }\n",
       "\n",
       "    .dataframe thead th {\n",
       "        text-align: right;\n",
       "    }\n",
       "</style>\n",
       "<table border=\"1\" class=\"dataframe\">\n",
       "  <thead>\n",
       "    <tr style=\"text-align: right;\">\n",
       "      <th></th>\n",
       "      <th>Tweets</th>\n",
       "      <th>Clean_Tweets</th>\n",
       "    </tr>\n",
       "  </thead>\n",
       "  <tbody>\n",
       "    <tr>\n",
       "      <th>0</th>\n",
       "      <td>Looks like CPI data is going to come better th...</td>\n",
       "      <td>Looks like CPI data is going to come better th...</td>\n",
       "    </tr>\n",
       "    <tr>\n",
       "      <th>1</th>\n",
       "      <td>#EURUSD ALL targets hit! 150 pips profit🎯\\n\\nJ...</td>\n",
       "      <td>ALL targets hit! 150 pips profit🎯Join our FRE...</td>\n",
       "    </tr>\n",
       "    <tr>\n",
       "      <th>2</th>\n",
       "      <td>Bitcoin is the future of money. Decentralizati...</td>\n",
       "      <td>Bitcoin is the future of money. Decentralizati...</td>\n",
       "    </tr>\n",
       "    <tr>\n",
       "      <th>3</th>\n",
       "      <td>@BitcoinMagazine @GovRonDeSantis Sounds like @...</td>\n",
       "      <td>@BitcoinMagazine @GovRonDeSantis Sounds like @...</td>\n",
       "    </tr>\n",
       "    <tr>\n",
       "      <th>4</th>\n",
       "      <td>I can help you get back your hacked,locked Acc...</td>\n",
       "      <td>I can help you get back your hacked,locked Acc...</td>\n",
       "    </tr>\n",
       "  </tbody>\n",
       "</table>\n",
       "</div>"
      ],
      "text/plain": [
       "                                              Tweets  \\\n",
       "0  Looks like CPI data is going to come better th...   \n",
       "1  #EURUSD ALL targets hit! 150 pips profit🎯\\n\\nJ...   \n",
       "2  Bitcoin is the future of money. Decentralizati...   \n",
       "3  @BitcoinMagazine @GovRonDeSantis Sounds like @...   \n",
       "4  I can help you get back your hacked,locked Acc...   \n",
       "\n",
       "                                        Clean_Tweets  \n",
       "0  Looks like CPI data is going to come better th...  \n",
       "1   ALL targets hit! 150 pips profit🎯Join our FRE...  \n",
       "2  Bitcoin is the future of money. Decentralizati...  \n",
       "3  @BitcoinMagazine @GovRonDeSantis Sounds like @...  \n",
       "4  I can help you get back your hacked,locked Acc...  "
      ]
     },
     "execution_count": 10,
     "metadata": {},
     "output_type": "execute_result"
    }
   ],
   "source": [
    "df['Clean_Tweets'] = df['Tweets'].apply(cleanTwt)\n",
    "df.head()"
   ]
  },
  {
   "cell_type": "code",
   "execution_count": 11,
   "metadata": {},
   "outputs": [],
   "source": [
    "#get subjectivity and polarity using textblob library\n",
    "\n",
    "def getSubjectivity(twt):\n",
    "    return TextBlob(twt).sentiment.subjectivity\n",
    "\n",
    "def getPolarity(twt):\n",
    "    return TextBlob(twt).sentiment.polarity\n",
    "\n",
    "df['subjectivity'] = df['Clean_Tweets'].apply(getSubjectivity)\n",
    "df['polarity'] = df['Clean_Tweets'].apply(getPolarity)"
   ]
  },
  {
   "cell_type": "code",
   "execution_count": 12,
   "metadata": {},
   "outputs": [],
   "source": [
    "#Sentiment function to determine the pos/neg tweets using their polarity scores\n",
    "\n",
    "def getsentiment(score):\n",
    "    if score < 0:\n",
    "        return 'Negative'\n",
    "    elif score == 0:\n",
    "        return 'Neutral'\n",
    "    else:\n",
    "        return 'Positive'\n",
    "    \n",
    "df['Sentiment'] = df['polarity'].apply(getsentiment)"
   ]
  },
  {
   "cell_type": "code",
   "execution_count": 13,
   "metadata": {},
   "outputs": [
    {
     "name": "stdout",
     "output_type": "stream",
     "text": [
      "Positive: 96\n",
      "Neutral: 75\n",
      "Negative: 29\n"
     ]
    }
   ],
   "source": [
    "positive=[]\n",
    "negative=[]\n",
    "neutral=[]\n",
    "\n",
    "#polarity > 0 == positive \n",
    "\n",
    "for polarity in df['polarity']:\n",
    "    if polarity > 0:\n",
    "        positive.append(polarity)\n",
    "    elif polarity == 0:\n",
    "        neutral.append(polarity)\n",
    "    else:\n",
    "        negative.append(polarity)\n",
    "\n",
    "\n",
    "print(f\"Positive: {len(positive)}\")\n",
    "print(f\"Neutral: {len(neutral)}\")\n",
    "print(f\"Negative: {len(negative)}\")"
   ]
  },
  {
   "cell_type": "code",
   "execution_count": 14,
   "metadata": {},
   "outputs": [
    {
     "data": {
      "text/html": [
       "<div>\n",
       "<style scoped>\n",
       "    .dataframe tbody tr th:only-of-type {\n",
       "        vertical-align: middle;\n",
       "    }\n",
       "\n",
       "    .dataframe tbody tr th {\n",
       "        vertical-align: top;\n",
       "    }\n",
       "\n",
       "    .dataframe thead th {\n",
       "        text-align: right;\n",
       "    }\n",
       "</style>\n",
       "<table border=\"1\" class=\"dataframe\">\n",
       "  <thead>\n",
       "    <tr style=\"text-align: right;\">\n",
       "      <th></th>\n",
       "      <th>Tweets</th>\n",
       "      <th>Clean_Tweets</th>\n",
       "      <th>subjectivity</th>\n",
       "      <th>polarity</th>\n",
       "      <th>Sentiment</th>\n",
       "    </tr>\n",
       "  </thead>\n",
       "  <tbody>\n",
       "    <tr>\n",
       "      <th>0</th>\n",
       "      <td>Looks like CPI data is going to come better th...</td>\n",
       "      <td>Looks like CPI data is going to come better th...</td>\n",
       "      <td>0.450000</td>\n",
       "      <td>0.200000</td>\n",
       "      <td>Positive</td>\n",
       "    </tr>\n",
       "    <tr>\n",
       "      <th>1</th>\n",
       "      <td>#EURUSD ALL targets hit! 150 pips profit🎯\\n\\nJ...</td>\n",
       "      <td>ALL targets hit! 150 pips profit🎯Join our FRE...</td>\n",
       "      <td>0.800000</td>\n",
       "      <td>0.400000</td>\n",
       "      <td>Positive</td>\n",
       "    </tr>\n",
       "    <tr>\n",
       "      <th>2</th>\n",
       "      <td>Bitcoin is the future of money. Decentralizati...</td>\n",
       "      <td>Bitcoin is the future of money. Decentralizati...</td>\n",
       "      <td>0.341667</td>\n",
       "      <td>0.040152</td>\n",
       "      <td>Positive</td>\n",
       "    </tr>\n",
       "    <tr>\n",
       "      <th>3</th>\n",
       "      <td>@BitcoinMagazine @GovRonDeSantis Sounds like @...</td>\n",
       "      <td>@BitcoinMagazine @GovRonDeSantis Sounds like @...</td>\n",
       "      <td>0.100000</td>\n",
       "      <td>0.000000</td>\n",
       "      <td>Neutral</td>\n",
       "    </tr>\n",
       "    <tr>\n",
       "      <th>4</th>\n",
       "      <td>I can help you get back your hacked,locked Acc...</td>\n",
       "      <td>I can help you get back your hacked,locked Acc...</td>\n",
       "      <td>0.000000</td>\n",
       "      <td>0.000000</td>\n",
       "      <td>Neutral</td>\n",
       "    </tr>\n",
       "    <tr>\n",
       "      <th>...</th>\n",
       "      <td>...</td>\n",
       "      <td>...</td>\n",
       "      <td>...</td>\n",
       "      <td>...</td>\n",
       "      <td>...</td>\n",
       "    </tr>\n",
       "    <tr>\n",
       "      <th>195</th>\n",
       "      <td>#satoshichain #bitcoin \\n\\nJoin the airdrop be...</td>\n",
       "      <td>bitcoin Join the airdrop before its too late</td>\n",
       "      <td>0.600000</td>\n",
       "      <td>-0.300000</td>\n",
       "      <td>Negative</td>\n",
       "    </tr>\n",
       "    <tr>\n",
       "      <th>196</th>\n",
       "      <td>What is an ERC-20?https://t.co/hZfeBNKt2q.</td>\n",
       "      <td>What is an ERC-20?</td>\n",
       "      <td>0.000000</td>\n",
       "      <td>0.000000</td>\n",
       "      <td>Neutral</td>\n",
       "    </tr>\n",
       "    <tr>\n",
       "      <th>197</th>\n",
       "      <td>@Pauly0x its the middle of the day, people are...</td>\n",
       "      <td>@Pauly0x its the middle of the day, people are...</td>\n",
       "      <td>0.350000</td>\n",
       "      <td>0.400000</td>\n",
       "      <td>Positive</td>\n",
       "    </tr>\n",
       "    <tr>\n",
       "      <th>198</th>\n",
       "      <td>Still #bitcoin maximalist!</td>\n",
       "      <td>Still bitcoin maximalist!</td>\n",
       "      <td>0.000000</td>\n",
       "      <td>0.000000</td>\n",
       "      <td>Neutral</td>\n",
       "    </tr>\n",
       "    <tr>\n",
       "      <th>199</th>\n",
       "      <td>@JoeNakamoto biTcOin pOLis? https://t.co/HtIyL...</td>\n",
       "      <td>@JoeNakamoto biTcOin pOLis?</td>\n",
       "      <td>0.000000</td>\n",
       "      <td>0.000000</td>\n",
       "      <td>Neutral</td>\n",
       "    </tr>\n",
       "  </tbody>\n",
       "</table>\n",
       "<p>200 rows × 5 columns</p>\n",
       "</div>"
      ],
      "text/plain": [
       "                                                Tweets  \\\n",
       "0    Looks like CPI data is going to come better th...   \n",
       "1    #EURUSD ALL targets hit! 150 pips profit🎯\\n\\nJ...   \n",
       "2    Bitcoin is the future of money. Decentralizati...   \n",
       "3    @BitcoinMagazine @GovRonDeSantis Sounds like @...   \n",
       "4    I can help you get back your hacked,locked Acc...   \n",
       "..                                                 ...   \n",
       "195  #satoshichain #bitcoin \\n\\nJoin the airdrop be...   \n",
       "196         What is an ERC-20?https://t.co/hZfeBNKt2q.   \n",
       "197  @Pauly0x its the middle of the day, people are...   \n",
       "198                         Still #bitcoin maximalist!   \n",
       "199  @JoeNakamoto biTcOin pOLis? https://t.co/HtIyL...   \n",
       "\n",
       "                                          Clean_Tweets  subjectivity  \\\n",
       "0    Looks like CPI data is going to come better th...      0.450000   \n",
       "1     ALL targets hit! 150 pips profit🎯Join our FRE...      0.800000   \n",
       "2    Bitcoin is the future of money. Decentralizati...      0.341667   \n",
       "3    @BitcoinMagazine @GovRonDeSantis Sounds like @...      0.100000   \n",
       "4    I can help you get back your hacked,locked Acc...      0.000000   \n",
       "..                                                 ...           ...   \n",
       "195       bitcoin Join the airdrop before its too late      0.600000   \n",
       "196                                 What is an ERC-20?      0.000000   \n",
       "197  @Pauly0x its the middle of the day, people are...      0.350000   \n",
       "198                          Still bitcoin maximalist!      0.000000   \n",
       "199                       @JoeNakamoto biTcOin pOLis?       0.000000   \n",
       "\n",
       "     polarity Sentiment  \n",
       "0    0.200000  Positive  \n",
       "1    0.400000  Positive  \n",
       "2    0.040152  Positive  \n",
       "3    0.000000   Neutral  \n",
       "4    0.000000   Neutral  \n",
       "..        ...       ...  \n",
       "195 -0.300000  Negative  \n",
       "196  0.000000   Neutral  \n",
       "197  0.400000  Positive  \n",
       "198  0.000000   Neutral  \n",
       "199  0.000000   Neutral  \n",
       "\n",
       "[200 rows x 5 columns]"
      ]
     },
     "execution_count": 14,
     "metadata": {},
     "output_type": "execute_result"
    }
   ],
   "source": [
    "df"
   ]
  },
  {
   "cell_type": "code",
   "execution_count": 15,
   "metadata": {},
   "outputs": [
    {
     "data": {
      "image/png": "[encoded data removed]",
      "text/plain": [
       "<Figure size 576x432 with 1 Axes>"
      ]
     },
     "metadata": {
      "needs_background": "light"
     },
     "output_type": "display_data"
    }
   ],
   "source": [
    "#The higher subjectivity means that the text contains personal opinion rather than factual information\n",
    "#Higher polarity means more positive sentiment and vise-versa\n",
    "\n",
    "plt.figure(figsize=(8,6))\n",
    "for i in range(0, df.shape[0]):\n",
    "    plt.scatter(df['polarity'][i], df['subjectivity'][i], color = 'red')\n",
    "plt.title('Sentiment analysis')\n",
    "plt.xlabel('Polarity')\n",
    "plt.ylabel('subjectivity')\n",
    "plt.show()"
   ]
  },
  {
   "cell_type": "code",
   "execution_count": null,
   "metadata": {},
   "outputs": [],
   "source": []
  }
 ],
 "metadata": {
  "kernelspec": {
   "display_name": "dev",
   "language": "python",
   "name": "python3"
  },
  "language_info": {
   "codemirror_mode": {
    "name": "ipython",
    "version": 3
   },
   "file_extension": ".py",
   "mimetype": "text/x-python",
   "name": "python",
   "nbconvert_exporter": "python",
   "pygments_lexer": "ipython3",
   "version": "3.7.13"
  },
  "orig_nbformat": 4
 },
 "nbformat": 4,
 "nbformat_minor": 2
}
